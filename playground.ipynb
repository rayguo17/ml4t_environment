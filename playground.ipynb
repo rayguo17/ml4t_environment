{
 "cells": [
  {
   "cell_type": "code",
   "execution_count": null,
   "id": "682333c9",
   "metadata": {},
   "outputs": [],
   "source": [
    "import pandas as pd\n",
    "import os\n",
    "import numpy as np\n",
    "import matplotlib.pyplot as plt\n",
    "\n",
    "def symbol_to_path(symbol, base_dir=\"data\"):\n",
    "    return os.path.join(base_dir, \"{}.csv\".format(str(symbol)))\n",
    "\n",
    "def get_data(symbollist:list, dates):\n",
    "    df_final = pd.DataFrame(index=dates)\n",
    "    if \"SPY\" not in symbollist:\n",
    "        symbollist.insert(0,\"SPY\")\n",
    "    for symbol in symbollist:\n",
    "        file_path = symbol_to_path(symbol)\n",
    "        df_temp = pd.read_csv(file_path, parse_dates=True, index_col=\"Date\", usecols=[\"Dates\"])\n",
    "\n",
    "\n"
   ]
  },
  {
   "cell_type": "code",
   "execution_count": null,
   "id": "2ee56adb",
   "metadata": {},
   "outputs": [
    {
     "name": "stdout",
     "output_type": "stream",
     "text": [
      "0.3679798527298535\n",
      "0.6234816723399759\n"
     ]
    }
   ],
   "source": [
    "p=9/19\n",
    "def p_win_1_with_n(n):\n",
    "    p_res = p\n",
    "    for i in range(0,n-1):\n",
    "        p_res *= (1-p)\n",
    "    return p_res\n",
    "def p_win_1_within_n(n):\n",
    "    p_res = 0\n",
    "    for i in range(0,n):\n",
    "        p_res += p_win_1_with_n(i+1)\n",
    "    return p_res\n",
    "\n",
    "def win_n_time(dollar):\n",
    "    p_res = 1\n",
    "    for i in range(0,dollar):\n",
    "        \n",
    "        p_res *= p_win_1_within_n(8)\n",
    "        \n",
    "    return p_res\n",
    "\n",
    "p_lose_all_money = 1- p_win_1_within_n(7)\n",
    "\n",
    "def p_lose_all_money_at_strategy_step(n):\n",
    "    p_res = p_lose_all_money\n",
    "    for i in range(0,n-1):\n",
    "        p_res *= (1-p_lose_all_money)\n",
    "    return p_res\n",
    "\n",
    "def p_lose_all_money_within_strategy_step(n):\n",
    "    p_res = 0\n",
    "    for i in range(0,n):\n",
    "        p_res += p_lose_all_money_at_strategy_step(n)\n",
    "    return p_res\n",
    "\n",
    "print(p_lose_all_money_within_strategy_step(80))\n",
    "print(p_win_1_within_n(8))\n",
    "# print(1- p_win_1_within_n(9))\n",
    "print(win_n_time(80))\n"
   ]
  }
 ],
 "metadata": {
  "kernelspec": {
   "display_name": "ml4t",
   "language": "python",
   "name": "python3"
  },
  "language_info": {
   "codemirror_mode": {
    "name": "ipython",
    "version": 3
   },
   "file_extension": ".py",
   "mimetype": "text/x-python",
   "name": "python",
   "nbconvert_exporter": "python",
   "pygments_lexer": "ipython3",
   "version": "3.10.18"
  }
 },
 "nbformat": 4,
 "nbformat_minor": 5
}
