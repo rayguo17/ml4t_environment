{
 "cells": [
  {
   "cell_type": "code",
   "execution_count": null,
   "id": "1c9fa12c",
   "metadata": {},
   "outputs": [
    {
     "ename": "IndentationError",
     "evalue": "expected an indented block after 'while' statement on line 55 (213322510.py, line 61)",
     "output_type": "error",
     "traceback": [
      "\u001b[0;36m  Cell \u001b[0;32mIn[14], line 61\u001b[0;36m\u001b[0m\n\u001b[0;31m    a = np.array([-1,0,0.0,np.nan, np.nan ])\u001b[0m\n\u001b[0m                                            ^\u001b[0m\n\u001b[0;31mIndentationError\u001b[0m\u001b[0;31m:\u001b[0m expected an indented block after 'while' statement on line 55\n"
     ]
    }
   ],
   "source": [
    "import numpy as np\n",
    "\n",
    "class TreeNode:\n",
    "    def __init__(self, feature=None, value=None, left=None, right=None, is_leaf=False, prediction=None):\n",
    "        self.feature = feature\n",
    "        self.value = value\n",
    "        self.left = left\n",
    "        self.right = right\n",
    "        self.is_leaf = is_leaf\n",
    "        self.prediction = prediction\n",
    "\n",
    "class RTLearner: # left is ngt, right is gt\n",
    "    def __init__(self, leaf_size = 1, verbose = False):\n",
    "        self.leaf_size = leaf_size\n",
    "        self.verbose = verbose\n",
    "        self.tree = None\n",
    "    def add_evidence(self, data_x, data_y):\n",
    "        self.build_tree(data_x, data_y)\n",
    "        \n",
    "    def build_tree(self, data_x: np.ndarray, data_y: np.ndarray)-> TreeNode:\n",
    "        if data_x.shape[0] <= self.leaf_size: # smaller than leaf size\n",
    "            return TreeNode(None, None, None, None, True, data_y.mean())\n",
    "        if np.all(data_y == data_y[0]):\n",
    "            return TreeNode(None, None, None, None, True, data_y[0])\n",
    "        \n",
    "        #best_feature = self.determine_best_feature(data_x,data_y)\n",
    "        best_feature = np.random.randint(0,data_x.shape[1])\n",
    "        split_val = np.median(data_x[:,best_feature])\n",
    "        left_indices = data_x[:,best_feature] <= split_val\n",
    "        right_indices = data_x[:,best_feature] > split_val\n",
    "        \n",
    "        left_tree = self.build_tree(data_x[left_indices],data_y[left_indices])\n",
    "        right_tree = self.build_tree(data_x[right_indices],data_y[right_indices])\n",
    "        \n",
    "        return TreeNode(best_feature,split_val,left_tree,right_tree,False,None)\n",
    "    \n",
    "    def determine_best_feature(self, data_x: np.ndarray, data_y: np.ndarray):\n",
    "        best_score = float('inf')\n",
    "        best_feature = -1\n",
    "        \n",
    "        for feature in range(data_x.shape[1]):\n",
    "            split_val = np.median(data_x[:,feature])\n",
    "            left_indices = np.where(data_x[:,feature] <= split_val)[0]\n",
    "            right_indices = np.where(data_x[:,feature] > split_val)[0]\n",
    "            if left_indices.size == 0 or right_indices.size == 0 :\n",
    "                continue\n",
    "            left_y = data_y[left_indices]\n",
    "            right_y = data_y[right_indices]\n",
    "            score = np.var(left_y) * left_y.size + np.var(right_y) * right_y.size\n",
    "            if score < best_score:\n",
    "                best_score = score\n",
    "                best_feature = feature\n",
    "        return best_feature\n",
    "    def query_point(self, point):\n",
    "        if self.tree is None:\n",
    "            raise ValueError(\"The model has not been trained yet.\")\n",
    "        self.query_point_for_subtree(point, self.tree)\n",
    "         \n",
    "    def query_point_for_subtree(self, point, node:TreeNode): # return prediction.\n",
    "        if node.is_leaf:\n",
    "            return node.prediction\n",
    "        if point[node.feature] <= node.value:\n",
    "            return self.query_point_for_subtree(point,node.left)\n",
    "        else:\n",
    "            return self.query_point_for_subtree(point,node.right)\n",
    "        \n",
    "\n",
    "\n",
    "# node represenation:\n",
    "# ['leaf'/'internal', feature, value, left_tree, right_tree]\n",
    "# top-down approach.\n",
    "a = np.array([-1,0,0.0,np.nan, np.nan ])\n",
    "b = np.array([1,1,0.0,np.nan, np.nan ])\n",
    "c = np.vstack((a,b))\n",
    "d = np.array([-1,0,0.0,1,np.nan])\n",
    "\n",
    "e = np.vstack((d,c))\n",
    "print(c)\n",
    "print(e)"
   ]
  },
  {
   "cell_type": "code",
   "execution_count": 27,
   "id": "64950b14",
   "metadata": {},
   "outputs": [
    {
     "name": "stdout",
     "output_type": "stream",
     "text": [
      "[1 1]\n",
      "[[2. 5. 4.]\n",
      " [2. 5. 4.]]\n",
      "[ True False]\n",
      "2\n"
     ]
    },
    {
     "data": {
      "text/plain": [
       "array([[1., 2., 4.]])"
      ]
     },
     "execution_count": 27,
     "metadata": {},
     "output_type": "execute_result"
    }
   ],
   "source": [
    "import numpy as np\n",
    "\n",
    "a = np.array([[1.0,2.0,4.0],\n",
    "              [2.0,5.0,4.0]\n",
    "              ])\n",
    "# b = np.array([2.0,2.0,4.0])\n",
    "indices = a[:,1]<=3.0\n",
    "c = np.random.choice(a.shape[0],a.shape[0],replace=True)\n",
    "print(c)\n",
    "selected_a = a[c]\n",
    "print(selected_a)\n",
    "print(indices)\n",
    "print(indices.size)\n",
    "b = a[indices]\n",
    "b"
   ]
  },
  {
   "cell_type": "code",
   "execution_count": 28,
   "id": "91dbd602",
   "metadata": {},
   "outputs": [
    {
     "data": {
      "text/plain": [
       "array([[1., 1.],\n",
       "       [1., 1.]])"
      ]
     },
     "execution_count": 28,
     "metadata": {},
     "output_type": "execute_result"
    }
   ],
   "source": [
    "data_x = np.array([\n",
    "    [1.0,2.0,3.0,4.0],\n",
    "    [2.0,3.0,4.0,1.0]\n",
    "])\n",
    "\n",
    "data_y = np.array([\n",
    "    1.0,2.0\n",
    "])\n",
    "\n",
    "np.corrcoef(data_x[:,1],data_y)"
   ]
  },
  {
   "cell_type": "code",
   "execution_count": 22,
   "id": "276d0095",
   "metadata": {},
   "outputs": [
    {
     "name": "stdout",
     "output_type": "stream",
     "text": [
      "{'leaf_size': 1, 'verbose': False}\n"
     ]
    }
   ],
   "source": [
    "kwargs = {\n",
    "    \"leaf_size\": 1,\n",
    "    \"verbose\": False,\n",
    "}\n",
    "def func(**args):\n",
    "    print(args)\n",
    "func(**kwargs)"
   ]
  }
 ],
 "metadata": {
  "kernelspec": {
   "display_name": "ml4t",
   "language": "python",
   "name": "python3"
  },
  "language_info": {
   "codemirror_mode": {
    "name": "ipython",
    "version": 3
   },
   "file_extension": ".py",
   "mimetype": "text/x-python",
   "name": "python",
   "nbconvert_exporter": "python",
   "pygments_lexer": "ipython3",
   "version": "3.10.18"
  }
 },
 "nbformat": 4,
 "nbformat_minor": 5
}
